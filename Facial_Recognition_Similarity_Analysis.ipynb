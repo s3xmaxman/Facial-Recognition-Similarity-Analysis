{
  "nbformat": 4,
  "nbformat_minor": 0,
  "metadata": {
    "colab": {
      "provenance": [],
      "gpuType": "T4"
    },
    "kernelspec": {
      "name": "python3",
      "display_name": "Python 3"
    },
    "language_info": {
      "name": "python"
    },
    "accelerator": "GPU"
  },
  "cells": [
    {
      "cell_type": "code",
      "source": [
        "!pip install face_recognition pillow"
      ],
      "metadata": {
        "id": "wpszaIcKuhAB"
      },
      "execution_count": null,
      "outputs": []
    },
    {
      "cell_type": "code",
      "source": [
        "import face_recognition\n",
        "from PIL import Image, ImageDraw\n",
        "\n",
        "\n",
        "image_path1 = 'test1.jpg'\n",
        "image_path2 = 'test2.jpg'\n",
        "\n",
        "new_size = (472, 628)\n",
        "threshold = 0.55\n",
        "\n",
        "# 画像をリサイズする関数\n",
        "def resize_image(image, size):\n",
        "    return image.resize(size, Image.LANCZOS)\n",
        "\n",
        "# 画像の読み込みと顔のエンコーディング\n",
        "def encode_face(image_path):\n",
        "    image = face_recognition.load_image_file(image_path)\n",
        "    face_encodings = face_recognition.face_encodings(image)\n",
        "    if face_encodings:\n",
        "        return image, face_encodings[0]  # 画像とエンコーディングの両方を返す\n",
        "    else:\n",
        "        return None, None\n",
        "\n",
        "\n",
        "\n",
        "# 画像から顔をエンコードし、オリジナルの画像データも取得\n",
        "image1, encoded_face1 = encode_face(image_path1)\n",
        "image2, encoded_face2 = encode_face(image_path2)\n",
        "\n",
        "if encoded_face1 is not None and encoded_face2 is not None:\n",
        "    results = face_recognition.compare_faces([encoded_face1], encoded_face2)\n",
        "    similarity = face_recognition.face_distance([encoded_face1], encoded_face2)\n",
        "\n",
        "    if results[0] and similarity[0] < threshold:\n",
        "        print(\"同一人物である可能性が高いです。\")\n",
        "\n",
        "    else:\n",
        "        print(\"異なる人物である可能性が高いです。\")\n",
        "\n",
        "    similarity_percentage = (1 - similarity[0]) * 100\n",
        "    print(f'類似度: {similarity_percentage:.1f}%')\n",
        "\n",
        "    # ランドマークを抽出\n",
        "    face_landmarks_list1 = face_recognition.face_landmarks(image1)\n",
        "    face_landmarks_list2 = face_recognition.face_landmarks(image2)\n",
        "\n",
        "    # PILイメージの作成\n",
        "    pil_image1 = Image.fromarray(image1)\n",
        "    pil_image2 = Image.fromarray(image2)\n",
        "\n",
        "    # PILイメージ上にランドマークを描写\n",
        "    draw1 = ImageDraw.Draw(pil_image1)\n",
        "    for landmarks in face_landmarks_list1:\n",
        "        for feature in landmarks.keys():\n",
        "            draw1.line(landmarks[feature], width=5, fill='red')\n",
        "\n",
        "    draw2 = ImageDraw.Draw(pil_image2)\n",
        "    for landmarks in face_landmarks_list2:\n",
        "        for feature in landmarks.keys():\n",
        "            draw2.line(landmarks[feature], width=5, fill='red')\n",
        "\n",
        "    # 画像をリサイズする\n",
        "    pil_image1 = resize_image(pil_image1, new_size)\n",
        "    pil_image2 = resize_image(pil_image2, new_size)\n",
        "\n",
        "    # 修正された画像を横に並べる\n",
        "    combined_image = Image.new('RGB', (new_size[0] * 2, new_size[1]))\n",
        "    combined_image.paste(pil_image1, (0, 0))\n",
        "    combined_image.paste(pil_image2, (new_size[0], 0))\n",
        "\n",
        "    # 修正された画像を表示\n",
        "    display(combined_image)\n",
        "else:\n",
        "    print(\"両画像の中に顔が認識できませんでした。\")\n",
        "\n",
        "\n"
      ],
      "metadata": {
        "id": "a-PpnPZWv-f8"
      },
      "execution_count": null,
      "outputs": []
    }
  ]
}